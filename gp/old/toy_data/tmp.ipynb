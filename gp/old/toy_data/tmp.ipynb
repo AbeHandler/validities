{
 "cells": [
  {
   "cell_type": "code",
   "execution_count": 16,
   "id": "2c20ac56",
   "metadata": {},
   "outputs": [
    {
     "data": {
      "text/plain": [
       "(5, 4)"
      ]
     },
     "execution_count": 16,
     "metadata": {},
     "output_type": "execute_result"
    }
   ],
   "source": [
    "import numpy as np\n",
    "\n",
    "M = 4\n",
    "O = 5\n",
    "\n",
    "klf = np.ones((M,1))\n",
    "covariance = np.ones((O,1)).T\n",
    "\n",
    "np.kron(klf,covariance).T.shape"
   ]
  },
  {
   "cell_type": "code",
   "execution_count": 23,
   "id": "e0a0ad52",
   "metadata": {},
   "outputs": [
    {
     "data": {
      "text/plain": [
       "(3,)"
      ]
     },
     "execution_count": 23,
     "metadata": {},
     "output_type": "execute_result"
    }
   ],
   "source": [
    "A = np.ones((3,3))\n",
    "Y = np.ones(3)\n",
    "\n",
    "A.dot(Y).shape"
   ]
  },
  {
   "cell_type": "code",
   "execution_count": null,
   "id": "af06b381",
   "metadata": {},
   "outputs": [],
   "source": []
  }
 ],
 "metadata": {
  "kernelspec": {
   "display_name": "Python 3 (ipykernel)",
   "language": "python",
   "name": "python3"
  },
  "language_info": {
   "codemirror_mode": {
    "name": "ipython",
    "version": 3
   },
   "file_extension": ".py",
   "mimetype": "text/x-python",
   "name": "python",
   "nbconvert_exporter": "python",
   "pygments_lexer": "ipython3",
   "version": "3.10.6"
  }
 },
 "nbformat": 4,
 "nbformat_minor": 5
}
