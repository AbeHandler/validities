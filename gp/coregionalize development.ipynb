{
 "cells": [
  {
   "cell_type": "code",
   "execution_count": 12,
   "id": "e5afff24",
   "metadata": {},
   "outputs": [],
   "source": [
    "%load_ext autoreload\n",
    "\n",
    "%autoreload 2"
   ]
  },
  {
   "cell_type": "code",
   "execution_count": 1,
   "id": "b9cb78e2",
   "metadata": {},
   "outputs": [
    {
     "name": "stderr",
     "output_type": "stream",
     "text": [
      " /opt/homebrew/anaconda3/envs/causaldsr/lib/python3.10/site-packages/altair/utils/core.py:317: FutureWarning:iteritems is deprecated and will be removed in a future version. Use .items instead.\n"
     ]
    },
    {
     "data": {
      "text/html": [
       "\n",
       "<div id=\"altair-viz-296764b33b0d4edbac875c27684cf3ad\"></div>\n",
       "<script type=\"text/javascript\">\n",
       "  var VEGA_DEBUG = (typeof VEGA_DEBUG == \"undefined\") ? {} : VEGA_DEBUG;\n",
       "  (function(spec, embedOpt){\n",
       "    let outputDiv = document.currentScript.previousElementSibling;\n",
       "    if (outputDiv.id !== \"altair-viz-296764b33b0d4edbac875c27684cf3ad\") {\n",
       "      outputDiv = document.getElementById(\"altair-viz-296764b33b0d4edbac875c27684cf3ad\");\n",
       "    }\n",
       "    const paths = {\n",
       "      \"vega\": \"https://cdn.jsdelivr.net/npm//vega@5?noext\",\n",
       "      \"vega-lib\": \"https://cdn.jsdelivr.net/npm//vega-lib?noext\",\n",
       "      \"vega-lite\": \"https://cdn.jsdelivr.net/npm//vega-lite@4.17.0?noext\",\n",
       "      \"vega-embed\": \"https://cdn.jsdelivr.net/npm//vega-embed@6?noext\",\n",
       "    };\n",
       "\n",
       "    function maybeLoadScript(lib, version) {\n",
       "      var key = `${lib.replace(\"-\", \"\")}_version`;\n",
       "      return (VEGA_DEBUG[key] == version) ?\n",
       "        Promise.resolve(paths[lib]) :\n",
       "        new Promise(function(resolve, reject) {\n",
       "          var s = document.createElement('script');\n",
       "          document.getElementsByTagName(\"head\")[0].appendChild(s);\n",
       "          s.async = true;\n",
       "          s.onload = () => {\n",
       "            VEGA_DEBUG[key] = version;\n",
       "            return resolve(paths[lib]);\n",
       "          };\n",
       "          s.onerror = () => reject(`Error loading script: ${paths[lib]}`);\n",
       "          s.src = paths[lib];\n",
       "        });\n",
       "    }\n",
       "\n",
       "    function showError(err) {\n",
       "      outputDiv.innerHTML = `<div class=\"error\" style=\"color:red;\">${err}</div>`;\n",
       "      throw err;\n",
       "    }\n",
       "\n",
       "    function displayChart(vegaEmbed) {\n",
       "      vegaEmbed(outputDiv, spec, embedOpt)\n",
       "        .catch(err => showError(`Javascript Error: ${err.message}<br>This usually means there's a typo in your chart specification. See the javascript console for the full traceback.`));\n",
       "    }\n",
       "\n",
       "    if(typeof define === \"function\" && define.amd) {\n",
       "      requirejs.config({paths});\n",
       "      require([\"vega-embed\"], displayChart, err => showError(`Error loading script: ${err.message}`));\n",
       "    } else {\n",
       "      maybeLoadScript(\"vega\", \"5\")\n",
       "        .then(() => maybeLoadScript(\"vega-lite\", \"4.17.0\"))\n",
       "        .then(() => maybeLoadScript(\"vega-embed\", \"6\"))\n",
       "        .catch(showError)\n",
       "        .then(() => displayChart(vegaEmbed));\n",
       "    }\n",
       "  })({\"config\": {\"view\": {\"continuousWidth\": 400, \"continuousHeight\": 300}}, \"layer\": [{\"data\": {\"name\": \"data-6a5d6dc70165cc0c8eb21a5d50e5d5d5\"}, \"mark\": {\"type\": \"point\", \"clip\": true, \"filled\": true, \"opacity\": 1, \"size\": 60}, \"encoding\": {\"color\": {\"field\": \"task\", \"scale\": {\"scheme\": \"dark2\"}, \"type\": \"nominal\"}, \"x\": {\"field\": \"x\", \"scale\": {\"domain\": [0, 1.5]}, \"title\": \"X\", \"type\": \"quantitative\"}, \"y\": {\"field\": \"y\", \"scale\": {\"domain\": [-4, 8]}, \"title\": \"Y\", \"type\": \"quantitative\"}}}, {\"data\": {\"name\": \"data-bace33553f629c569b7c86d81b41a7c7\"}, \"mark\": {\"type\": \"line\", \"clip\": true}, \"encoding\": {\"color\": {\"field\": \"task\", \"legend\": null, \"scale\": {\"scheme\": \"dark2\"}, \"type\": \"nominal\"}, \"x\": {\"field\": \"x\", \"scale\": {\"domain\": [0, 1.5]}, \"type\": \"quantitative\"}, \"y\": {\"field\": \"y\", \"scale\": {\"domain\": [-4, 8]}, \"type\": \"quantitative\"}}}, {\"data\": {\"name\": \"data-7abf2f10b278b7ae13c38595c95002b3\"}, \"mark\": {\"type\": \"area\", \"clip\": true, \"opacity\": 0.5}, \"encoding\": {\"color\": {\"field\": \"task\", \"legend\": null, \"scale\": {\"scheme\": \"dark2\"}, \"type\": \"nominal\"}, \"x\": {\"field\": \"x\", \"scale\": {\"domain\": [0, 1.5]}, \"type\": \"quantitative\"}, \"y\": {\"field\": \"lower\", \"scale\": {\"domain\": [-4, 8]}, \"type\": \"quantitative\"}, \"y2\": {\"field\": \"upper\"}}}, {\"data\": {\"name\": \"data-d1cf4e11a8c8c3071ea5009c60cb7b56\"}, \"mark\": \"rule\", \"encoding\": {\"x\": {\"field\": \"x\", \"type\": \"quantitative\"}}}], \"resolve\": {\"legend\": {\"color\": \"independent\"}}, \"$schema\": \"https://vega.github.io/schema/vega-lite/v4.17.0.json\", \"datasets\": {\"data-6a5d6dc70165cc0c8eb21a5d50e5d5d5\": [{\"x\": 0.17258184958466843, \"y\": 1.1306940769285563, \"task\": \"Prediction\"}, {\"x\": 0.9135998089192221, \"y\": -0.703953568402305, \"task\": \"Prediction\"}, {\"x\": 0.20008644627898242, \"y\": 1.2991010556045328, \"task\": \"Prediction\"}, {\"x\": 0.36088442994802317, \"y\": 1.025897916268318, \"task\": \"Prediction\"}, {\"x\": 0.49070858371670967, \"y\": 0.5970863421793964, \"task\": \"Prediction\"}, {\"x\": 1.2887062364228965, \"y\": 1.1198088848054522, \"task\": \"Prediction\"}, {\"x\": 0.9991353196470386, \"y\": -0.2559506894279189, \"task\": \"Prediction\"}, {\"x\": 0.8666486408992002, \"y\": 1.2201008690183857, \"task\": \"Proxy\"}, {\"x\": 0.2210289958843713, \"y\": 3.3516923196410477, \"task\": \"Proxy\"}, {\"x\": 0.40498944804725967, \"y\": 3.324195056293314, \"task\": \"Proxy\"}, {\"x\": 0.3160964710182087, \"y\": 3.4843996111201427, \"task\": \"Proxy\"}, {\"x\": 0.31561307431854146, \"y\": 5.200367933347112, \"task\": \"Target\"}, {\"x\": 0.48634643753259954, \"y\": 4.862455133559067, \"task\": \"Target\"}], \"data-bace33553f629c569b7c86d81b41a7c7\": [{\"x\": 0.0, \"y\": 3.975079966093378, \"task\": \"Target\"}, {\"x\": 0.010050251256281407, \"y\": 4.039364893921256, \"task\": \"Target\"}, {\"x\": 0.020100502512562814, \"y\": 2.698947097461015, \"task\": \"Proxy\"}, {\"x\": 0.03015075376884422, \"y\": 2.7398716650736534, \"task\": \"Proxy\"}, {\"x\": 0.04020100502512563, \"y\": 2.7800573930673376, \"task\": \"Proxy\"}, {\"x\": 0.05025125628140704, \"y\": 1.0140454731218451, \"task\": \"Prediction\"}, {\"x\": 0.06030150753768844, \"y\": 4.344510843740368, \"task\": \"Target\"}, {\"x\": 0.07035175879396985, \"y\": 4.401886811475146, \"task\": \"Target\"}, {\"x\": 0.08040201005025126, \"y\": 2.932664615248603, \"task\": \"Proxy\"}, {\"x\": 0.09045226130653267, \"y\": 4.512527708041352, \"task\": \"Target\"}, {\"x\": 0.10050251256281408, \"y\": 4.5656760135194805, \"task\": \"Target\"}, {\"x\": 0.11055276381909548, \"y\": 4.617297208482, \"task\": \"Target\"}, {\"x\": 0.12060301507537688, \"y\": 4.667330891634397, \"task\": \"Target\"}, {\"x\": 0.1306532663316583, \"y\": 1.1530941797760856, \"task\": \"Prediction\"}, {\"x\": 0.1407035175879397, \"y\": 4.762388783483562, \"task\": \"Target\"}, {\"x\": 0.15075376884422112, \"y\": 4.807286586659565, \"task\": \"Target\"}, {\"x\": 0.16080402010050251, \"y\": 1.1887866072648903, \"task\": \"Prediction\"}, {\"x\": 0.1708542713567839, \"y\": 4.891494420421049, \"task\": \"Target\"}, {\"x\": 0.18090452261306533, \"y\": 3.243671745257259, \"task\": \"Proxy\"}, {\"x\": 0.19095477386934673, \"y\": 1.2126643288336327, \"task\": \"Prediction\"}, {\"x\": 0.20100502512562815, \"y\": 1.2176939028767202, \"task\": \"Prediction\"}, {\"x\": 0.21105527638190955, \"y\": 3.3127361048135717, \"task\": \"Proxy\"}, {\"x\": 0.22110552763819097, \"y\": 5.06622979102782, \"task\": \"Target\"}, {\"x\": 0.23115577889447236, \"y\": 3.3514311238673957, \"task\": \"Proxy\"}, {\"x\": 0.24120603015075376, \"y\": 1.2215553291148102, \"task\": \"Prediction\"}, {\"x\": 0.25125628140703515, \"y\": 5.143673174913561, \"task\": \"Target\"}, {\"x\": 0.2613065326633166, \"y\": 3.397483904075158, \"task\": \"Proxy\"}, {\"x\": 0.271356783919598, \"y\": 5.182654943849275, \"task\": \"Target\"}, {\"x\": 0.2814070351758794, \"y\": 3.4196205731224665, \"task\": \"Proxy\"}, {\"x\": 0.2914572864321608, \"y\": 5.2108250510628995, \"task\": \"Target\"}, {\"x\": 0.30150753768844224, \"y\": 1.1730566712849506, \"task\": \"Prediction\"}, {\"x\": 0.31155778894472363, \"y\": 1.1581470947531474, \"task\": \"Prediction\"}, {\"x\": 0.32160804020100503, \"y\": 1.1412234188902257, \"task\": \"Prediction\"}, {\"x\": 0.3316582914572864, \"y\": 5.2324320521771055, \"task\": \"Target\"}, {\"x\": 0.3417085427135678, \"y\": 3.440722101408532, \"task\": \"Proxy\"}, {\"x\": 0.35175879396984927, \"y\": 1.078289113434861, \"task\": \"Prediction\"}, {\"x\": 0.36180904522613067, \"y\": 3.431489538721649, \"task\": \"Proxy\"}, {\"x\": 0.37185929648241206, \"y\": 3.4236536229492307, \"task\": \"Proxy\"}, {\"x\": 0.38190954773869346, \"y\": 3.413631069809029, \"task\": \"Proxy\"}, {\"x\": 0.3919597989949749, \"y\": 3.401396528397516, \"task\": \"Proxy\"}, {\"x\": 0.4020100502512563, \"y\": 0.9333930046366005, \"task\": \"Prediction\"}, {\"x\": 0.4120603015075377, \"y\": 0.8986566455280296, \"task\": \"Prediction\"}, {\"x\": 0.4221105527638191, \"y\": 5.0941749880565546, \"task\": \"Target\"}, {\"x\": 0.4321608040201005, \"y\": 3.329989971099494, \"task\": \"Proxy\"}, {\"x\": 0.44221105527638194, \"y\": 0.7838346908909666, \"task\": \"Prediction\"}, {\"x\": 0.45226130653266333, \"y\": 4.986967013825732, \"task\": \"Target\"}, {\"x\": 0.4623115577889447, \"y\": 4.944373173594271, \"task\": \"Target\"}, {\"x\": 0.4723618090452261, \"y\": 0.6546424660861686, \"task\": \"Prediction\"}, {\"x\": 0.4824120603015075, \"y\": 3.1899816667502, \"task\": \"Proxy\"}, {\"x\": 0.49246231155778897, \"y\": 0.5617486451902385, \"task\": \"Prediction\"}, {\"x\": 0.5025125628140703, \"y\": 3.1186002536753925, \"task\": \"Proxy\"}, {\"x\": 0.5125628140703518, \"y\": 0.4644697121596164, \"task\": \"Prediction\"}, {\"x\": 0.5226130653266332, \"y\": 0.4144960032822555, \"task\": \"Prediction\"}, {\"x\": 0.5326633165829145, \"y\": 0.3638110726455865, \"task\": \"Prediction\"}, {\"x\": 0.542713567839196, \"y\": 0.31255597201036467, \"task\": \"Prediction\"}, {\"x\": 0.5527638190954774, \"y\": 4.415532439379568, \"task\": \"Target\"}, {\"x\": 0.5628140703517588, \"y\": 2.8565064220952316, \"task\": \"Proxy\"}, {\"x\": 0.5728643216080402, \"y\": 4.266263660809927, \"task\": \"Target\"}, {\"x\": 0.5829145728643216, \"y\": 0.10483124391195932, \"task\": \"Prediction\"}, {\"x\": 0.592964824120603, \"y\": 0.05300997137104158, \"task\": \"Prediction\"}, {\"x\": 0.6030150753768845, \"y\": 2.6480219018016995, \"task\": \"Proxy\"}, {\"x\": 0.6130653266331658, \"y\": -0.04935653310583284, \"task\": \"Prediction\"}, {\"x\": 0.6231155778894473, \"y\": 2.5361150893839803, \"task\": \"Proxy\"}, {\"x\": 0.6331658291457286, \"y\": -0.14890450023189103, \"task\": \"Prediction\"}, {\"x\": 0.6432160804020101, \"y\": 2.420430932970686, \"task\": \"Proxy\"}, {\"x\": 0.6532663316582915, \"y\": -0.24428916287206134, \"task\": \"Prediction\"}, {\"x\": 0.6633165829145728, \"y\": 2.302071477155114, \"task\": \"Proxy\"}, {\"x\": 0.6733668341708543, \"y\": 3.4084206521440703, \"task\": \"Target\"}, {\"x\": 0.6834170854271356, \"y\": -0.37666456464021136, \"task\": \"Prediction\"}, {\"x\": 0.6934673366834171, \"y\": 3.225743870441621, \"task\": \"Target\"}, {\"x\": 0.7035175879396985, \"y\": -0.45592453431366253, \"task\": \"Prediction\"}, {\"x\": 0.7135678391959799, \"y\": -0.49240623354938906, \"task\": \"Prediction\"}, {\"x\": 0.7236180904522613, \"y\": 2.9531961438116245, \"task\": \"Target\"}, {\"x\": 0.7336683417085427, \"y\": 2.8636737283363947, \"task\": \"Target\"}, {\"x\": 0.7437185929648241, \"y\": -0.5876140628049558, \"task\": \"Prediction\"}, {\"x\": 0.7537688442211056, \"y\": -0.6141903626743712, \"task\": \"Prediction\"}, {\"x\": 0.7638190954773869, \"y\": 1.7119458595131556, \"task\": \"Proxy\"}, {\"x\": 0.7738693467336684, \"y\": -0.658947650376012, \"task\": \"Prediction\"}, {\"x\": 0.7839195979899498, \"y\": 2.4362826169832936, \"task\": \"Target\"}, {\"x\": 0.7939698492462312, \"y\": 2.356363681693322, \"task\": \"Target\"}, {\"x\": 0.8040201005025126, \"y\": -0.7037804474804975, \"task\": \"Prediction\"}, {\"x\": 0.8140703517587939, \"y\": 2.203685495604715, \"task\": \"Target\"}, {\"x\": 0.8241206030150754, \"y\": 1.4020785784966656, \"task\": \"Proxy\"}, {\"x\": 0.8341708542713568, \"y\": 2.061729072562749, \"task\": \"Target\"}, {\"x\": 0.8442211055276382, \"y\": -0.7193796245837412, \"task\": \"Prediction\"}, {\"x\": 0.8542713567839196, \"y\": 1.2708082945308805, \"task\": \"Proxy\"}, {\"x\": 0.864321608040201, \"y\": 1.2312240423189689, \"task\": \"Proxy\"}, {\"x\": 0.8743718592964824, \"y\": -0.6970483538195961, \"task\": \"Prediction\"}, {\"x\": 0.8844221105527639, \"y\": -0.6831638877026173, \"task\": \"Prediction\"}, {\"x\": 0.8944723618090452, \"y\": 1.711604313277131, \"task\": \"Target\"}, {\"x\": 0.9045226130653267, \"y\": -0.6459637389565669, \"task\": \"Prediction\"}, {\"x\": 0.914572864321608, \"y\": 1.0675903611583608, \"task\": \"Proxy\"}, {\"x\": 0.9246231155778895, \"y\": 1.5839504390569683, \"task\": \"Target\"}, {\"x\": 0.9346733668341709, \"y\": 1.0188634863146575, \"task\": \"Proxy\"}, {\"x\": 0.9447236180904522, \"y\": 0.9981458449119832, \"task\": \"Proxy\"}, {\"x\": 0.9547738693467337, \"y\": 1.489455912381639, \"task\": \"Target\"}, {\"x\": 0.964824120603015, \"y\": 1.4652867586472915, \"task\": \"Target\"}, {\"x\": 0.9748743718592965, \"y\": 0.9504150239458953, \"task\": \"Proxy\"}, {\"x\": 0.9849246231155779, \"y\": 1.4276797586994485, \"task\": \"Target\"}, {\"x\": 0.9949748743718593, \"y\": 0.930275692596948, \"task\": \"Proxy\"}, {\"x\": 1.0050251256281406, \"y\": 1.4038911234392628, \"task\": \"Target\"}, {\"x\": 1.015075376884422, \"y\": 0.9189871518030351, \"task\": \"Proxy\"}, {\"x\": 1.0251256281407035, \"y\": -0.19603066671051916, \"task\": \"Prediction\"}, {\"x\": 1.035175879396985, \"y\": 0.9159661229026892, \"task\": \"Proxy\"}, {\"x\": 1.0452261306532664, \"y\": -0.09289472652058037, \"task\": \"Prediction\"}, {\"x\": 1.0552763819095476, \"y\": -0.039511519681062264, \"task\": \"Prediction\"}, {\"x\": 1.065326633165829, \"y\": 1.4066225926480358, \"task\": \"Target\"}, {\"x\": 1.0753768844221105, \"y\": 0.9317827904974215, \"task\": \"Proxy\"}, {\"x\": 1.085427135678392, \"y\": 1.4283826716928631, \"task\": \"Target\"}, {\"x\": 1.0954773869346734, \"y\": 0.181919047887672, \"task\": \"Prediction\"}, {\"x\": 1.105527638190955, \"y\": 0.2383397295115426, \"task\": \"Prediction\"}, {\"x\": 1.1155778894472361, \"y\": 0.9708753787015072, \"task\": \"Proxy\"}, {\"x\": 1.1256281407035176, \"y\": 0.9833702903413709, \"task\": \"Proxy\"}, {\"x\": 1.135678391959799, \"y\": 0.40726189599526735, \"task\": \"Prediction\"}, {\"x\": 1.1457286432160805, \"y\": 0.4628705116878495, \"task\": \"Prediction\"}, {\"x\": 1.155778894472362, \"y\": 0.5178462755558522, \"task\": \"Prediction\"}, {\"x\": 1.1658291457286432, \"y\": 1.5814254268218408, \"task\": \"Target\"}, {\"x\": 1.1758793969849246, \"y\": 1.6047470334193017, \"task\": \"Target\"}, {\"x\": 1.185929648241206, \"y\": 0.6773739084179985, \"task\": \"Prediction\"}, {\"x\": 1.1959798994974875, \"y\": 1.0867961560073287, \"task\": \"Proxy\"}, {\"x\": 1.206030150753769, \"y\": 1.6756094534252222, \"task\": \"Target\"}, {\"x\": 1.2160804020100502, \"y\": 0.8256978953092134, \"task\": \"Prediction\"}, {\"x\": 1.2261306532663316, \"y\": 1.1326688027667444, \"task\": \"Proxy\"}, {\"x\": 1.236180904522613, \"y\": 1.1472890255596633, \"task\": \"Proxy\"}, {\"x\": 1.2462311557788945, \"y\": 1.1613945284611993, \"task\": \"Proxy\"}, {\"x\": 1.256281407035176, \"y\": 1.0000852908069715, \"task\": \"Prediction\"}, {\"x\": 1.2663316582914572, \"y\": 1.18766761545178, \"task\": \"Proxy\"}, {\"x\": 1.2763819095477387, \"y\": 1.199652882110788, \"task\": \"Proxy\"}, {\"x\": 1.2864321608040201, \"y\": 1.8404622392384704, \"task\": \"Target\"}, {\"x\": 1.2964824120603016, \"y\": 1.142014162613, \"task\": \"Prediction\"}, {\"x\": 1.306532663316583, \"y\": 1.2300413941857795, \"task\": \"Proxy\"}, {\"x\": 1.3165829145728642, \"y\": 1.2380864638131854, \"task\": \"Proxy\"}, {\"x\": 1.3266331658291457, \"y\": 1.2246309151893842, \"task\": \"Prediction\"}, {\"x\": 1.3366834170854272, \"y\": 1.2474305834261934, \"task\": \"Prediction\"}, {\"x\": 1.3467336683417086, \"y\": 1.9080173012212212, \"task\": \"Target\"}, {\"x\": 1.35678391959799, \"y\": 1.2858336170318454, \"task\": \"Prediction\"}, {\"x\": 1.3668341708542713, \"y\": 1.915873447943239, \"task\": \"Target\"}, {\"x\": 1.3768844221105527, \"y\": 1.3146610781532544, \"task\": \"Prediction\"}, {\"x\": 1.3869346733668342, \"y\": 1.3255223011180062, \"task\": \"Prediction\"}, {\"x\": 1.3969849246231156, \"y\": 1.91271176341656, \"task\": \"Target\"}, {\"x\": 1.407035175879397, \"y\": 1.9076209723123245, \"task\": \"Target\"}, {\"x\": 1.4170854271356783, \"y\": 1.3442643121977496, \"task\": \"Prediction\"}, {\"x\": 1.4271356783919598, \"y\": 1.2442836655507545, \"task\": \"Proxy\"}, {\"x\": 1.4371859296482412, \"y\": 1.3456698955997313, \"task\": \"Prediction\"}, {\"x\": 1.4472361809045227, \"y\": 1.2284548330738922, \"task\": \"Proxy\"}, {\"x\": 1.4572864321608041, \"y\": 1.8524725077384991, \"task\": \"Target\"}, {\"x\": 1.4673366834170853, \"y\": 1.3323064302980456, \"task\": \"Prediction\"}, {\"x\": 1.4773869346733668, \"y\": 1.3240045550765511, \"task\": \"Prediction\"}, {\"x\": 1.4874371859296482, \"y\": 1.3139072415180246, \"task\": \"Prediction\"}, {\"x\": 1.4974874371859297, \"y\": 1.7750879571504083, \"task\": \"Target\"}, {\"x\": 1.5075376884422111, \"y\": 1.7516068015963067, \"task\": \"Target\"}, {\"x\": 1.5175879396984926, \"y\": 1.2736774188064708, \"task\": \"Prediction\"}, {\"x\": 1.5276381909547738, \"y\": 1.2572452360571136, \"task\": \"Prediction\"}, {\"x\": 1.5376884422110553, \"y\": 1.2394516113039589, \"task\": \"Prediction\"}, {\"x\": 1.5477386934673367, \"y\": 1.6434393887971097, \"task\": \"Target\"}, {\"x\": 1.5577889447236182, \"y\": 1.6132648267724725, \"task\": \"Target\"}, {\"x\": 1.5678391959798996, \"y\": 1.1788204202112176, \"task\": \"Prediction\"}, {\"x\": 1.5778894472361809, \"y\": 1.0195376083185201, \"task\": \"Proxy\"}, {\"x\": 1.5879396984924623, \"y\": 1.5166719425524506, \"task\": \"Target\"}, {\"x\": 1.5979899497487438, \"y\": 1.1092473129492526, \"task\": \"Prediction\"}, {\"x\": 1.6080402010050252, \"y\": 0.9526758767927254, \"task\": \"Proxy\"}, {\"x\": 1.6180904522613067, \"y\": 0.929508247834807, \"task\": \"Proxy\"}, {\"x\": 1.6281407035175879, \"y\": 1.3772036326001662, \"task\": \"Target\"}, {\"x\": 1.6381909547738693, \"y\": 1.0067743062201684, \"task\": \"Prediction\"}, {\"x\": 1.6482412060301508, \"y\": 0.9799947188407953, \"task\": \"Prediction\"}, {\"x\": 1.6582914572864322, \"y\": 1.2678170776197193, \"task\": \"Target\"}, {\"x\": 1.6683417085427137, \"y\": 0.9256043066029684, \"task\": \"Prediction\"}, {\"x\": 1.678391959798995, \"y\": 1.1939299328628312, \"task\": \"Target\"}, {\"x\": 1.6884422110552764, \"y\": 1.156943455112321, \"task\": \"Target\"}, {\"x\": 1.6984924623115578, \"y\": 0.8430426111589253, \"task\": \"Prediction\"}, {\"x\": 1.7085427135678393, \"y\": 0.7126327516218499, \"task\": \"Proxy\"}, {\"x\": 1.7185929648241207, \"y\": 1.0467161093241588, \"task\": \"Target\"}, {\"x\": 1.728643216080402, \"y\": 0.7609037281110251, \"task\": \"Prediction\"}, {\"x\": 1.7386934673366834, \"y\": 0.7338930997014813, \"task\": \"Prediction\"}, {\"x\": 1.7487437185929648, \"y\": 0.9390078062512337, \"task\": \"Target\"}, {\"x\": 1.7587939698492463, \"y\": 0.5946667826822764, \"task\": \"Proxy\"}, {\"x\": 1.7688442211055277, \"y\": 0.57193619122278, \"task\": \"Proxy\"}, {\"x\": 1.778894472361809, \"y\": 0.6290137296027898, \"task\": \"Prediction\"}, {\"x\": 1.7889447236180904, \"y\": 0.6037927238377832, \"task\": \"Prediction\"}, {\"x\": 1.7989949748743719, \"y\": 0.5790424994090099, \"task\": \"Prediction\"}, {\"x\": 1.8090452261306533, \"y\": 0.7371534490401652, \"task\": \"Target\"}, {\"x\": 1.8190954773869348, \"y\": 0.5310703149710336, \"task\": \"Prediction\"}, {\"x\": 1.829145728643216, \"y\": 0.44413545088001055, \"task\": \"Proxy\"}, {\"x\": 1.8391959798994975, \"y\": 0.4852973380446064, \"task\": \"Prediction\"}, {\"x\": 1.849246231155779, \"y\": 0.4053221735036115, \"task\": \"Proxy\"}, {\"x\": 1.8592964824120604, \"y\": 0.5878120709546537, \"task\": \"Target\"}, {\"x\": 1.8693467336683418, \"y\": 0.42108065336606904, \"task\": \"Prediction\"}, {\"x\": 1.879396984924623, \"y\": 0.5336285427966088, \"task\": \"Target\"}, {\"x\": 1.8894472361809045, \"y\": 0.507778276706297, \"task\": \"Target\"}, {\"x\": 1.899497487437186, \"y\": 0.31758914258967635, \"task\": \"Proxy\"}, {\"x\": 1.9095477386934674, \"y\": 0.3016848428873439, \"task\": \"Proxy\"}, {\"x\": 1.9195979899497488, \"y\": 0.286332250427871, \"task\": \"Proxy\"}, {\"x\": 1.92964824120603, \"y\": 0.27152988035335907, \"task\": \"Proxy\"}, {\"x\": 1.9396984924623115, \"y\": 0.25727477168429164, \"task\": \"Proxy\"}, {\"x\": 1.949748743718593, \"y\": 0.2775043823127669, \"task\": \"Prediction\"}, {\"x\": 1.9597989949748744, \"y\": 0.23038772699003732, \"task\": \"Proxy\"}, {\"x\": 1.9698492462311559, \"y\": 0.33098939677327194, \"task\": \"Target\"}, {\"x\": 1.9798994974874373, \"y\": 0.20562177977198015, \"task\": \"Proxy\"}, {\"x\": 1.9899497487437185, \"y\": 0.19401402577492982, \"task\": \"Proxy\"}, {\"x\": 2.0, \"y\": 0.1829104470888873, \"task\": \"Proxy\"}], \"data-7abf2f10b278b7ae13c38595c95002b3\": [{\"x\": 0.0, \"y\": 3.975079966093378, \"task\": \"Target\", \"upper\": 4.604423992275034, \"lower\": 3.3457359399117217}, {\"x\": 0.010050251256281407, \"y\": 4.039364893921256, \"task\": \"Target\", \"upper\": 4.600006265567247, \"lower\": 3.4787235222752653}, {\"x\": 0.06030150753768844, \"y\": 4.344510843740368, \"task\": \"Target\", \"upper\": 4.6399791799051835, \"lower\": 4.049042507575552}, {\"x\": 0.07035175879396985, \"y\": 4.401886811475146, \"task\": \"Target\", \"upper\": 4.6583781765999115, \"lower\": 4.14539544635038}, {\"x\": 0.09045226130653267, \"y\": 4.512527708041352, \"task\": \"Target\", \"upper\": 4.703071041618048, \"lower\": 4.321984374464656}, {\"x\": 0.10050251256281408, \"y\": 4.5656760135194805, \"task\": \"Target\", \"upper\": 4.728710315202048, \"lower\": 4.402641711836913}, {\"x\": 0.11055276381909548, \"y\": 4.617297208482, \"task\": \"Target\", \"upper\": 4.7561074172488125, \"lower\": 4.478486999715188}, {\"x\": 0.12060301507537688, \"y\": 4.667330891634397, \"task\": \"Target\", \"upper\": 4.784937129073025, \"lower\": 4.549724654195769}, {\"x\": 0.1407035175879397, \"y\": 4.762388783483562, \"task\": \"Target\", \"upper\": 4.845619391794746, \"lower\": 4.679158175172378}, {\"x\": 0.15075376884422112, \"y\": 4.807286586659565, \"task\": \"Target\", \"upper\": 4.876852630683897, \"lower\": 4.737720542635233}, {\"x\": 0.1708542713567839, \"y\": 4.891494420421049, \"task\": \"Target\", \"upper\": 4.939624322266488, \"lower\": 4.843364518575609}, {\"x\": 0.22110552763819097, \"y\": 5.06622979102782, \"task\": \"Target\", \"upper\": 5.085841070861877, \"lower\": 5.046618511193763}, {\"x\": 0.25125628140703515, \"y\": 5.143673174913561, \"task\": \"Target\", \"upper\": 5.156872757256555, \"lower\": 5.130473592570566}, {\"x\": 0.271356783919598, \"y\": 5.182654943849275, \"task\": \"Target\", \"upper\": 5.193992530245053, \"lower\": 5.171317357453496}, {\"x\": 0.2914572864321608, \"y\": 5.2108250510628995, \"task\": \"Target\", \"upper\": 5.221421696785183, \"lower\": 5.200228405340616}, {\"x\": 0.3316582914572864, \"y\": 5.2324320521771055, \"task\": \"Target\", \"upper\": 5.2430321646599545, \"lower\": 5.2218319396942565}, {\"x\": 0.4221105527638191, \"y\": 5.0941749880565546, \"task\": \"Target\", \"upper\": 5.104837720294921, \"lower\": 5.083512255818188}, {\"x\": 0.45226130653266333, \"y\": 4.986967013825732, \"task\": \"Target\", \"upper\": 4.997971711475878, \"lower\": 4.975962316175585}, {\"x\": 0.4623115577889447, \"y\": 4.944373173594271, \"task\": \"Target\", \"upper\": 4.955712262651044, \"lower\": 4.933034084537498}, {\"x\": 0.5527638190954774, \"y\": 4.415532439379568, \"task\": \"Target\", \"upper\": 4.439544253237593, \"lower\": 4.391520625521543}, {\"x\": 0.5728643216080402, \"y\": 4.266263660809927, \"task\": \"Target\", \"upper\": 4.295860921881607, \"lower\": 4.236666399738247}, {\"x\": 0.6733668341708543, \"y\": 3.4084206521440703, \"task\": \"Target\", \"upper\": 3.4684502028807684, \"lower\": 3.348391101407372}, {\"x\": 0.6934673366834171, \"y\": 3.225743870441621, \"task\": \"Target\", \"upper\": 3.2886848213651674, \"lower\": 3.1628029195180747}, {\"x\": 0.7236180904522613, \"y\": 2.9531961438116245, \"task\": \"Target\", \"upper\": 3.016138435641641, \"lower\": 2.890253851981608}, {\"x\": 0.7336683417085427, \"y\": 2.8636737283363947, \"task\": \"Target\", \"upper\": 2.925334104475034, \"lower\": 2.8020133521977555}, {\"x\": 0.7839195979899498, \"y\": 2.4362826169832936, \"task\": \"Target\", \"upper\": 2.4828734363325693, \"lower\": 2.389691797634018}, {\"x\": 0.7939698492462312, \"y\": 2.356363681693322, \"task\": \"Target\", \"upper\": 2.398758572414514, \"lower\": 2.3139687909721305}, {\"x\": 0.8140703517587939, \"y\": 2.203685495604715, \"task\": \"Target\", \"upper\": 2.2375937673561075, \"lower\": 2.169777223853323}, {\"x\": 0.8341708542713568, \"y\": 2.061729072562749, \"task\": \"Target\", \"upper\": 2.088357932463365, \"lower\": 2.0351002126621327}, {\"x\": 0.8944723618090452, \"y\": 1.711604313277131, \"task\": \"Target\", \"upper\": 1.7443839556112533, \"lower\": 1.6788246709430088}, {\"x\": 0.9246231155778895, \"y\": 1.5839504390569683, \"task\": \"Target\", \"upper\": 1.6506383260344062, \"lower\": 1.5172625520795304}, {\"x\": 0.9547738693467337, \"y\": 1.489455912381639, \"task\": \"Target\", \"upper\": 1.6218799575956575, \"lower\": 1.3570318671676207}, {\"x\": 0.964824120603015, \"y\": 1.4652867586472915, \"task\": \"Target\", \"upper\": 1.6280048173958022, \"lower\": 1.3025686998987809}, {\"x\": 0.9849246231155779, \"y\": 1.4276797586994485, \"task\": \"Target\", \"upper\": 1.6649406581632904, \"lower\": 1.1904188592356066}, {\"x\": 1.0050251256281406, \"y\": 1.4038911234392628, \"task\": \"Target\", \"upper\": 1.7354366891139885, \"lower\": 1.072345557764537}, {\"x\": 1.065326633165829, \"y\": 1.4066225926480358, \"task\": \"Target\", \"upper\": 2.145066084631774, \"lower\": 0.6681791006642975}, {\"x\": 1.085427135678392, \"y\": 1.4283826716928631, \"task\": \"Target\", \"upper\": 2.3425536558103532, \"lower\": 0.5142116875753732}, {\"x\": 1.1658291457286432, \"y\": 1.5814254268218408, \"task\": \"Target\", \"upper\": 3.355139948512944, \"lower\": -0.1922890948692626}, {\"x\": 1.1758793969849246, \"y\": 1.6047470334193017, \"task\": \"Target\", \"upper\": 3.4983472912697815, \"lower\": -0.2888532244311779}, {\"x\": 1.206030150753769, \"y\": 1.6756094534252222, \"task\": \"Target\", \"upper\": 3.937019186553493, \"lower\": -0.5858002797030484}, {\"x\": 1.2864321608040201, \"y\": 1.8404622392384704, \"task\": \"Target\", \"upper\": 5.0861222236599115, \"lower\": -1.4051977451829707}, {\"x\": 1.3467336683417086, \"y\": 1.9080173012212212, \"task\": \"Target\", \"upper\": 5.841317416386659, \"lower\": -2.025282813944216}, {\"x\": 1.3668341708542713, \"y\": 1.915873447943239, \"task\": \"Target\", \"upper\": 6.064233640903133, \"lower\": -2.2324867450166543}, {\"x\": 1.3969849246231156, \"y\": 1.91271176341656, \"task\": \"Target\", \"upper\": 6.3705452985027655, \"lower\": -2.5451217716696455}, {\"x\": 1.407035175879397, \"y\": 1.9076209723123245, \"task\": \"Target\", \"upper\": 6.465340298872255, \"lower\": -2.650098354247606}, {\"x\": 1.4572864321608041, \"y\": 1.8524725077384991, \"task\": \"Target\", \"upper\": 6.888730444411596, \"lower\": -3.1837854289345984}, {\"x\": 1.4974874371859297, \"y\": 1.7750879571504083, \"task\": \"Target\", \"upper\": 7.174339215574376, \"lower\": -3.6241633012735597}, {\"x\": 1.5075376884422111, \"y\": 1.7516068015963067, \"task\": \"Target\", \"upper\": 7.239488258749868, \"lower\": -3.7362746555572555}, {\"x\": 1.5477386934673367, \"y\": 1.6434393887971097, \"task\": \"Target\", \"upper\": 7.478779717806583, \"lower\": -4.1919009402123635}, {\"x\": 1.5577889447236182, \"y\": 1.6132648267724725, \"task\": \"Target\", \"upper\": 7.533800601542113, \"lower\": -4.307270947997168}, {\"x\": 1.5879396984924623, \"y\": 1.5166719425524506, \"task\": \"Target\", \"upper\": 7.688676551418974, \"lower\": -4.655332666314072}, {\"x\": 1.6281407035175879, \"y\": 1.3772036326001662, \"task\": \"Target\", \"upper\": 7.873439553610064, \"lower\": -5.119032288409732}, {\"x\": 1.6582914572864322, \"y\": 1.2678170776197193, \"task\": \"Target\", \"upper\": 7.996774262369187, \"lower\": -5.461140107129748}, {\"x\": 1.678391959798995, \"y\": 1.1939299328628312, \"task\": \"Target\", \"upper\": 8.071889139628691, \"lower\": -5.684029273903028}, {\"x\": 1.6884422110552764, \"y\": 1.156943455112321, \"task\": \"Target\", \"upper\": 8.107309118646636, \"lower\": -5.793422208421994}, {\"x\": 1.7185929648241207, \"y\": 1.0467161093241588, \"task\": \"Target\", \"upper\": 8.20494058131288, \"lower\": -6.111508362664561}, {\"x\": 1.7487437185929648, \"y\": 0.9390078062512337, \"task\": \"Target\", \"upper\": 8.289487684602337, \"lower\": -6.41147207209987}, {\"x\": 1.8090452261306533, \"y\": 0.7371534490401652, \"task\": \"Target\", \"upper\": 8.41929163521112, \"lower\": -6.944984737130789}, {\"x\": 1.8592964824120604, \"y\": 0.5878120709546537, \"task\": \"Target\", \"upper\": 8.489289405758196, \"lower\": -7.313665263848888}, {\"x\": 1.879396984924623, \"y\": 0.5336285427966088, \"task\": \"Target\", \"upper\": 8.508493460000391, \"lower\": -7.441236374407175}, {\"x\": 1.8894472361809045, \"y\": 0.507778276706297, \"task\": \"Target\", \"upper\": 8.51638354563404, \"lower\": -7.500826992221446}, {\"x\": 1.9698492462311559, \"y\": 0.33098939677327194, \"task\": \"Target\", \"upper\": 8.54535224577844, \"lower\": -7.883373452231896}], \"data-d1cf4e11a8c8c3071ea5009c60cb7b56\": [{\"x\": 0.7}]}}, {\"mode\": \"vega-lite\"});\n",
       "</script>"
      ],
      "text/plain": [
       "alt.LayerChart(...)"
      ]
     },
     "execution_count": 1,
     "metadata": {},
     "output_type": "execute_result"
    }
   ],
   "source": [
    "import numpy as np\n",
    "import GPy\n",
    "import altair as alt\n",
    "from typing import List\n",
    "from numpy import ndarray\n",
    "from src.observations import Observations\n",
    "from src.data_packer import DataPacker\n",
    "from src.generator import OneDimensionalGenerator\n",
    "from src.generator import function_proxy\n",
    "from src.generator import function_field\n",
    "from src.generator import function_predict\n",
    "from src.coregionalized import Coregionalized\n",
    "from src.coregionalization_input import CoregionalizationInput\n",
    "from src.plotter import Plotter\n",
    "\n",
    "plotter = Plotter()\n",
    "\n",
    "np.random.seed(43)\n",
    "\n",
    "n_feats = 1\n",
    "n_obs_field = 2\n",
    "n_obs_proxy = 4\n",
    "n_obs_predict = 7\n",
    "spread = 1\n",
    "\n",
    "range_predict = [0, 1.5]\n",
    "range_proxy = [0, 1]\n",
    "range_field = [.2, .5]\n",
    "\n",
    "g1 = OneDimensionalGenerator(f=function_predict, task_index=0)\n",
    "X1 = np.random.uniform(low=range_predict[0], \n",
    "                       high=range_predict[1],\n",
    "                       size=(n_obs_predict, n_feats))\n",
    "predict_observations = g1.generate(X1)\n",
    "\n",
    "g2 = OneDimensionalGenerator(f=function_proxy, task_index=1)\n",
    "X2 = np.random.uniform(low=range_proxy[0], \n",
    "                       high=range_proxy[1],\n",
    "                       size=(n_obs_proxy, n_feats))\n",
    "proxy_observations = g2.generate(X2)\n",
    "\n",
    "g3 = OneDimensionalGenerator(f=function_field, task_index=2)\n",
    "X3 = np.random.uniform(low=range_field[0], \n",
    "                       high=range_field[1],\n",
    "                       size=(n_obs_field, n_feats))\n",
    "field_observations = g3.generate(X3)\n",
    "\n",
    "packer = DataPacker()\n",
    "cr_input: CoregionalizationInput = packer.pack([predict_observations, proxy_observations, field_observations])\n",
    "\n",
    "coregionalized = Coregionalized(num_tasks=3, num_feats=n_feats, variance=.2, lengthscale=.1)\n",
    "coregionalized.fit(cr_input.X, cr_input.Y, cr_input.task_indexes)\n",
    "\n",
    "def to_task(task):\n",
    "    map_ = {\"0\": \"Prediction\", \"1\": \"Proxy\", \"2\": \"Target\"}\n",
    "    return map_[task]\n",
    "\n",
    "def convert_to_str(arr: ndarray):\n",
    "    arr = np.asarray([to_task(str(int(i[0]))) for i in arr.tolist()])\n",
    "    return arr.reshape(-1, 1)    \n",
    "\n",
    "\n",
    "points = plotter.points_plot(cr_input.X, cr_input.Y, \n",
    "                             convert_to_str(cr_input.task_indexes),\n",
    "                             legend=True)\n",
    "\n",
    "X, m, v, tasks = coregionalized.predict_region(region_start=0, region_end=2)\n",
    "\n",
    "lines = plotter.line_plot(X, m, convert_to_str(tasks), legend=None)\n",
    "\n",
    "only_field = np.where(tasks==2)[0]\n",
    "\n",
    "bands = plotter.bands_plot(X[only_field], \n",
    "                           m[only_field], \n",
    "                           convert_to_str(tasks[only_field]),\n",
    "                           v[only_field],\n",
    "                           legend=None)\n",
    "\n",
    "import pandas as pd\n",
    "df = pd.DataFrame([{\"x\": .7}])\n",
    "line = alt.Chart(df).mark_rule().encode(x=\"x\")\n",
    "\n",
    "# alt.vconcat(points, lines).resolve_legend(color='independent') \n",
    "c = alt.layer(points, lines, bands, line).resolve_legend(color='independent')\n",
    "c.layer[0].encoding.y.title = 'Y'\n",
    "c.layer[0].encoding.x.title = 'X'\n",
    "c.properties(\n",
    "    width=300,\n",
    "    height=300\n",
    ")\n",
    "\n",
    "c"
   ]
  },
  {
   "cell_type": "code",
   "execution_count": 46,
   "id": "679c56df",
   "metadata": {},
   "outputs": [
    {
     "data": {
      "text/html": [
       "\n",
       "<div id=\"altair-viz-48cd59ee9e7b4d41b37b633b9e195686\"></div>\n",
       "<script type=\"text/javascript\">\n",
       "  var VEGA_DEBUG = (typeof VEGA_DEBUG == \"undefined\") ? {} : VEGA_DEBUG;\n",
       "  (function(spec, embedOpt){\n",
       "    let outputDiv = document.currentScript.previousElementSibling;\n",
       "    if (outputDiv.id !== \"altair-viz-48cd59ee9e7b4d41b37b633b9e195686\") {\n",
       "      outputDiv = document.getElementById(\"altair-viz-48cd59ee9e7b4d41b37b633b9e195686\");\n",
       "    }\n",
       "    const paths = {\n",
       "      \"vega\": \"https://cdn.jsdelivr.net/npm//vega@5?noext\",\n",
       "      \"vega-lib\": \"https://cdn.jsdelivr.net/npm//vega-lib?noext\",\n",
       "      \"vega-lite\": \"https://cdn.jsdelivr.net/npm//vega-lite@4.17.0?noext\",\n",
       "      \"vega-embed\": \"https://cdn.jsdelivr.net/npm//vega-embed@6?noext\",\n",
       "    };\n",
       "\n",
       "    function maybeLoadScript(lib, version) {\n",
       "      var key = `${lib.replace(\"-\", \"\")}_version`;\n",
       "      return (VEGA_DEBUG[key] == version) ?\n",
       "        Promise.resolve(paths[lib]) :\n",
       "        new Promise(function(resolve, reject) {\n",
       "          var s = document.createElement('script');\n",
       "          document.getElementsByTagName(\"head\")[0].appendChild(s);\n",
       "          s.async = true;\n",
       "          s.onload = () => {\n",
       "            VEGA_DEBUG[key] = version;\n",
       "            return resolve(paths[lib]);\n",
       "          };\n",
       "          s.onerror = () => reject(`Error loading script: ${paths[lib]}`);\n",
       "          s.src = paths[lib];\n",
       "        });\n",
       "    }\n",
       "\n",
       "    function showError(err) {\n",
       "      outputDiv.innerHTML = `<div class=\"error\" style=\"color:red;\">${err}</div>`;\n",
       "      throw err;\n",
       "    }\n",
       "\n",
       "    function displayChart(vegaEmbed) {\n",
       "      vegaEmbed(outputDiv, spec, embedOpt)\n",
       "        .catch(err => showError(`Javascript Error: ${err.message}<br>This usually means there's a typo in your chart specification. See the javascript console for the full traceback.`));\n",
       "    }\n",
       "\n",
       "    if(typeof define === \"function\" && define.amd) {\n",
       "      requirejs.config({paths});\n",
       "      require([\"vega-embed\"], displayChart, err => showError(`Error loading script: ${err.message}`));\n",
       "    } else {\n",
       "      maybeLoadScript(\"vega\", \"5\")\n",
       "        .then(() => maybeLoadScript(\"vega-lite\", \"4.17.0\"))\n",
       "        .then(() => maybeLoadScript(\"vega-embed\", \"6\"))\n",
       "        .catch(showError)\n",
       "        .then(() => displayChart(vegaEmbed));\n",
       "    }\n",
       "  })({\"config\": {\"view\": {\"continuousWidth\": 400, \"continuousHeight\": 300}}, \"data\": {\"name\": \"data-6a5d6dc70165cc0c8eb21a5d50e5d5d5\"}, \"mark\": {\"type\": \"point\", \"clip\": true, \"filled\": true, \"opacity\": 1, \"size\": 60}, \"encoding\": {\"color\": {\"field\": \"task\", \"scale\": {\"scheme\": \"dark2\"}, \"type\": \"nominal\"}, \"x\": {\"field\": \"x\", \"scale\": {\"domain\": [0, 1.5]}, \"title\": \"X\", \"type\": \"quantitative\"}, \"y\": {\"field\": \"y\", \"scale\": {\"domain\": [-4, 8]}, \"title\": \"Y\", \"type\": \"quantitative\"}}, \"$schema\": \"https://vega.github.io/schema/vega-lite/v4.17.0.json\", \"datasets\": {\"data-6a5d6dc70165cc0c8eb21a5d50e5d5d5\": [{\"x\": 0.17258184958466843, \"y\": 1.1306940769285563, \"task\": \"Prediction\"}, {\"x\": 0.9135998089192221, \"y\": -0.703953568402305, \"task\": \"Prediction\"}, {\"x\": 0.20008644627898242, \"y\": 1.2991010556045328, \"task\": \"Prediction\"}, {\"x\": 0.36088442994802317, \"y\": 1.025897916268318, \"task\": \"Prediction\"}, {\"x\": 0.49070858371670967, \"y\": 0.5970863421793964, \"task\": \"Prediction\"}, {\"x\": 1.2887062364228965, \"y\": 1.1198088848054522, \"task\": \"Prediction\"}, {\"x\": 0.9991353196470386, \"y\": -0.2559506894279189, \"task\": \"Prediction\"}, {\"x\": 0.8666486408992002, \"y\": 1.2201008690183857, \"task\": \"Proxy\"}, {\"x\": 0.2210289958843713, \"y\": 3.3516923196410477, \"task\": \"Proxy\"}, {\"x\": 0.40498944804725967, \"y\": 3.324195056293314, \"task\": \"Proxy\"}, {\"x\": 0.3160964710182087, \"y\": 3.4843996111201427, \"task\": \"Proxy\"}, {\"x\": 0.31561307431854146, \"y\": 5.200367933347112, \"task\": \"Target\"}, {\"x\": 0.48634643753259954, \"y\": 4.862455133559067, \"task\": \"Target\"}]}}, {\"mode\": \"vega-lite\"});\n",
       "</script>"
      ],
      "text/plain": [
       "alt.Chart(...)"
      ]
     },
     "execution_count": 46,
     "metadata": {},
     "output_type": "execute_result"
    }
   ],
   "source": [
    "points"
   ]
  },
  {
   "cell_type": "code",
   "execution_count": 21,
   "id": "52b0562e",
   "metadata": {},
   "outputs": [
    {
     "data": {
      "text/plain": [
       "array([], shape=(0, 1), dtype=float64)"
      ]
     },
     "execution_count": 21,
     "metadata": {},
     "output_type": "execute_result"
    }
   ],
   "source": [
    "tasks"
   ]
  },
  {
   "cell_type": "code",
   "execution_count": 1,
   "id": "7b3137a8",
   "metadata": {},
   "outputs": [],
   "source": [
    "import GPy, numpy as np\n",
    "\n",
    "from src.kernels.binary_se import BinarySE"
   ]
  },
  {
   "cell_type": "code",
   "execution_count": 2,
   "id": "a2b51425",
   "metadata": {},
   "outputs": [],
   "source": [
    "se = BinarySE(2)"
   ]
  },
  {
   "cell_type": "code",
   "execution_count": 3,
   "id": "dae93b0c",
   "metadata": {},
   "outputs": [],
   "source": [
    "X = np.asarray([[1,2], [1,2]])"
   ]
  },
  {
   "cell_type": "code",
   "execution_count": 9,
   "id": "2d37cc00",
   "metadata": {},
   "outputs": [
    {
     "data": {
      "text/plain": [
       "array([[1, 2],\n",
       "       [1, 2]])"
      ]
     },
     "execution_count": 9,
     "metadata": {},
     "output_type": "execute_result"
    }
   ],
   "source": [
    "X"
   ]
  },
  {
   "cell_type": "code",
   "execution_count": 5,
   "id": "dab716b6",
   "metadata": {},
   "outputs": [
    {
     "name": "stdout",
     "output_type": "stream",
     "text": [
      "(2,)\n",
      "(2,)\n",
      "(2,)\n",
      "(2,)\n"
     ]
    },
    {
     "data": {
      "text/plain": [
       "array([[1., 1.],\n",
       "       [1., 1.]])"
      ]
     },
     "execution_count": 5,
     "metadata": {},
     "output_type": "execute_result"
    }
   ],
   "source": [
    "se.K(X, X)"
   ]
  },
  {
   "cell_type": "code",
   "execution_count": null,
   "id": "44b5c3bf",
   "metadata": {},
   "outputs": [],
   "source": []
  }
 ],
 "metadata": {
  "kernelspec": {
   "display_name": "Python 3 (ipykernel)",
   "language": "python",
   "name": "python3"
  },
  "language_info": {
   "codemirror_mode": {
    "name": "ipython",
    "version": 3
   },
   "file_extension": ".py",
   "mimetype": "text/x-python",
   "name": "python",
   "nbconvert_exporter": "python",
   "pygments_lexer": "ipython3",
   "version": "3.10.6"
  }
 },
 "nbformat": 4,
 "nbformat_minor": 5
}
